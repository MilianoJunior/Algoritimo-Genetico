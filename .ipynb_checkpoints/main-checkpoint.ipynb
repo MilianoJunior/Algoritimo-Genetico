{
 "cells": [
  {
   "cell_type": "markdown",
   "metadata": {},
   "source": [
    "## Algoritmos de otimização\n",
    "\n",
    "Descrição: A plataforma smarttbot é uma empresa de tecnologia especializada em investimento automatizado na bolsa de valores. Ela possibilita que investidores escolham estratégias que são formadas por indicadores  e configurem parâmetros dos principais indicadores do mercado, existem diversas estratégias, mas o escopo desse projeto vai considerar a tangram. Os parâmetros  \n",
    "Objetivo: Encontrar os melhores parâmetros da estratégia que retornem um maior lucro."
   ]
  },
  {
   "cell_type": "code",
   "execution_count": 5,
   "metadata": {},
   "outputs": [],
   "source": [
    "#importação das bibliotecas\n",
    "import time\n",
    "import random\n",
    "import math\n",
    "import pandas as pd\n",
    "import chardet"
   ]
  },
  {
   "cell_type": "code",
   "execution_count": 2,
   "metadata": {},
   "outputs": [],
   "source": [
    "#¨¨¨¨¨¨¨¨¨¨¨¨¨¨¨¨¨¨¨¨¨¨¨¨¨¨¨¨¨¨¨¨¨¨¨¨¨¨¨¨¨¨¨¨¨¨¨¨¨¨¨¨¨¨¨¨¨¨¨¨¨¨¨¨¨¨¨¨\n",
    "#Serão constantes\n",
    "ticket = 'WIN'                                     #papel negociado\n",
    "direction_operations = 'comprado&vendido'          #operações possiveis: compra e venda a descoberto\n",
    "amount_orders = 1                                  #quantidade de ordens \n",
    "start_time = '09:00'                               #horário inicial\n",
    "end_time = '17:00'                                 #horário limite de operação\n",
    "#¨¨¨¨¨¨¨¨¨¨¨¨¨¨¨¨¨¨¨¨¨¨¨¨¨¨¨¨¨¨¨¨¨¨¨¨¨¨¨¨¨¨¨¨¨¨¨¨¨¨¨¨¨¨¨¨¨¨¨¨¨¨¨¨¨¨¨¨\n",
    "#Serão variáveis\n",
    "time_frame = 1                   #tempo gráfico em min"
   ]
  },
  {
   "cell_type": "code",
   "execution_count": 29,
   "metadata": {},
   "outputs": [
    {
     "data": {
      "text/html": [
       "<div>\n",
       "<style scoped>\n",
       "    .dataframe tbody tr th:only-of-type {\n",
       "        vertical-align: middle;\n",
       "    }\n",
       "\n",
       "    .dataframe tbody tr th {\n",
       "        vertical-align: top;\n",
       "    }\n",
       "\n",
       "    .dataframe thead th {\n",
       "        text-align: right;\n",
       "    }\n",
       "</style>\n",
       "<table border=\"1\" class=\"dataframe\">\n",
       "  <thead>\n",
       "    <tr style=\"text-align: right;\">\n",
       "      <th></th>\n",
       "      <th>Data</th>\n",
       "      <th>Hora</th>\n",
       "      <th>open</th>\n",
       "      <th>high</th>\n",
       "      <th>low</th>\n",
       "      <th>close</th>\n",
       "      <th>VOL</th>\n",
       "    </tr>\n",
       "  </thead>\n",
       "  <tbody>\n",
       "    <tr>\n",
       "      <th>0</th>\n",
       "      <td>2014.10.20</td>\n",
       "      <td>09:14</td>\n",
       "      <td>56220.00</td>\n",
       "      <td>56275.00</td>\n",
       "      <td>56220.00</td>\n",
       "      <td>56275.00</td>\n",
       "      <td>142.00</td>\n",
       "    </tr>\n",
       "    <tr>\n",
       "      <th>1</th>\n",
       "      <td>2014.10.20</td>\n",
       "      <td>09:15</td>\n",
       "      <td>56265.00</td>\n",
       "      <td>56270.00</td>\n",
       "      <td>56250.00</td>\n",
       "      <td>56260.00</td>\n",
       "      <td>65.00</td>\n",
       "    </tr>\n",
       "    <tr>\n",
       "      <th>2</th>\n",
       "      <td>2014.10.20</td>\n",
       "      <td>09:16</td>\n",
       "      <td>56260.00</td>\n",
       "      <td>56290.00</td>\n",
       "      <td>56250.00</td>\n",
       "      <td>56290.00</td>\n",
       "      <td>80.00</td>\n",
       "    </tr>\n",
       "    <tr>\n",
       "      <th>3</th>\n",
       "      <td>2014.10.20</td>\n",
       "      <td>09:17</td>\n",
       "      <td>56285.00</td>\n",
       "      <td>56300.00</td>\n",
       "      <td>56270.00</td>\n",
       "      <td>56270.00</td>\n",
       "      <td>124.00</td>\n",
       "    </tr>\n",
       "    <tr>\n",
       "      <th>4</th>\n",
       "      <td>2014.10.20</td>\n",
       "      <td>09:18</td>\n",
       "      <td>56280.00</td>\n",
       "      <td>56290.00</td>\n",
       "      <td>56270.00</td>\n",
       "      <td>56285.00</td>\n",
       "      <td>25.00</td>\n",
       "    </tr>\n",
       "  </tbody>\n",
       "</table>\n",
       "</div>"
      ],
      "text/plain": [
       "         Data   Hora      open      high       low     close     VOL\n",
       "0  2014.10.20  09:14  56220.00  56275.00  56220.00  56275.00  142.00\n",
       "1  2014.10.20  09:15  56265.00  56270.00  56250.00  56260.00   65.00\n",
       "2  2014.10.20  09:16  56260.00  56290.00  56250.00  56290.00   80.00\n",
       "3  2014.10.20  09:17  56285.00  56300.00  56270.00  56270.00  124.00\n",
       "4  2014.10.20  09:18  56280.00  56290.00  56270.00  56285.00   25.00"
      ]
     },
     "execution_count": 29,
     "metadata": {},
     "output_type": "execute_result"
    }
   ],
   "source": [
    "# carregando os dados\n",
    "with open('M4.csv', 'rb') as f:\n",
    "    result = chardet.detect(f.read())  # or readline if the file is large\n",
    "\n",
    "base = pd.read_csv('M4.csv', encoding=result['encoding'],dtype='unicode')\n",
    "\n",
    "colunas = ['Data','Hora', 'open', 'high', 'low', 'close','VOL']\n",
    "base = base[colunas]\n",
    "base.head()"
   ]
  },
  {
   "cell_type": "code",
   "execution_count": 14,
   "metadata": {},
   "outputs": [
    {
     "name": "stdout",
     "output_type": "stream",
     "text": [
      "Index(['Data', 'Hora', 'open', 'high', 'low', 'close', 'dif', 'retacao +',\n",
      "       'retracao -', 'RSI', 'M22M44', 'M22M66', 'M66M44', 'ADX', 'ATR',\n",
      "       'Momentum', 'Force', 'OBV', 'VOL', 'CCI', 'Bears', 'Bulls', 'Stock1',\n",
      "       'Stock2', 'Wilians', 'Std', 'Acumulacao', 'MFI', 'band1', 'band2',\n",
      "       'band3'],\n",
      "      dtype='object')\n"
     ]
    },
    {
     "data": {
      "text/plain": [
       "array([['2020.12.18', '09:07', 118250.0, ..., 118572.25, 119090.89,\n",
       "        118053.61],\n",
       "       ['2020.12.18', '09:08', 118310.0, ..., 118560.75, 119081.73,\n",
       "        118039.77],\n",
       "       ['2020.12.18', '09:09', 118420.0, ..., 118549.75, 119069.91,\n",
       "        118029.59],\n",
       "       ...,\n",
       "       ['2020.12.21', '09:11', 115775.0, ..., 117096.25, 119260.45,\n",
       "        114932.05],\n",
       "       ['2020.12.21', '09:12', 115790.0, ..., 116980.75, 119147.83,\n",
       "        114813.67],\n",
       "       ['2020.12.21', '09:13', 115865.0, ..., 116865.5, 119010.26,\n",
       "        114720.74]], dtype=object)"
      ]
     },
     "execution_count": 14,
     "metadata": {},
     "output_type": "execute_result"
    }
   ],
   "source": [
    "#primeiro passo é criar um ambiente que simule a plataforma da smarttbot\n",
    "print(base.columns)\n",
    "base[-910:-340].values\n"
   ]
  },
  {
   "cell_type": "code",
   "execution_count": null,
   "metadata": {},
   "outputs": [],
   "source": []
  },
  {
   "cell_type": "code",
   "execution_count": null,
   "metadata": {},
   "outputs": [],
   "source": []
  }
 ],
 "metadata": {
  "kernelspec": {
   "display_name": "Python 3",
   "language": "python",
   "name": "python3"
  },
  "language_info": {
   "codemirror_mode": {
    "name": "ipython",
    "version": 3
   },
   "file_extension": ".py",
   "mimetype": "text/x-python",
   "name": "python",
   "nbconvert_exporter": "python",
   "pygments_lexer": "ipython3",
   "version": "3.8.5"
  }
 },
 "nbformat": 4,
 "nbformat_minor": 4
}
